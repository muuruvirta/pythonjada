{
 "cells": [
  {
   "cell_type": "markdown",
   "id": "26060b8b-b923-40b9-848b-8cc9c9477d35",
   "metadata": {},
   "source": [
    "Tässä notebookissa käydään läpi miten Pythonilla käytetään Tilastokeskus PxWeb-tietokantoja JSON-rajapinnan kautta. \n",
    "Samalla tavalla voidaan käyttää mitä tahansa PxWeb-tekniikalla toteutettua tietokantaa, kunhan JSON-kysely saadaan \n",
    "muodostettua oikein. Tarvitset harjoituksessa kirjastoa pyjstat, joten asenna se Python ympäristöösi. \n",
    "\n",
    "Esimerkissä luodaan yhteys Tilastokeskuksen tietokantaan, joka sisältää kuluttajahintaindeksin vuositiedot 2014-2024 (2015 = 100). Tietokanta on saatavissa osoitteessa https://pxdata.stat.fi/PxWeb/pxweb/fi/StatFin/StatFin__khi/statfin_khi_pxt_11xc.px/.\n",
    "Tarvittava JSON-kysely saadaan kopioimalla se suoraan Tilastokeskuksen sivulta sen jälkeen, kun halutut tiedot on valittu. "
   ]
  },
  {
   "cell_type": "code",
   "execution_count": 1,
   "id": "ca948e1f-18a0-40bf-a07e-8bc83ca6096a",
   "metadata": {},
   "outputs": [
    {
     "name": "stdout",
     "output_type": "stream",
     "text": [
      "Vastaus saatiin onnistuneesti:\n",
      "{'version': '2.0', 'class': 'dataset', 'label': 'Kuluttajahintaindeksi (2015=100) muuttujina Vuosi ja Tiedot', 'source': 'Tilastokeskus, kuluttajahintaindeksi', 'updated': '2025-01-14T06:00:00Z', 'note': [\"<A HREF='https://stat.fi/tilasto/dokumentaatio/khi' TARGET=_blank>Tilaston dokumentaatio</A>\", '. tieto on puuttuva\\r\\n. tieto on puuttuva'], 'role': {'time': ['Vuosi'], 'metric': ['Tiedot']}, 'id': ['Vuosi', 'Tiedot'], 'size': [10, 1], 'dimension': {'Vuosi': {'label': 'Vuosi', 'category': {'index': {'2015': 0, '2016': 1, '2017': 2, '2018': 3, '2019': 4, '2020': 5, '2021': 6, '2022': 7, '2023': 8, '2024': 9}, 'label': {'2015': '2015', '2016': '2016', '2017': '2017', '2018': '2018', '2019': '2019', '2020': '2020', '2021': '2021', '2022': '2022', '2023': '2023', '2024': '2024'}}, 'extension': {'elimination': False, 'show': 'value'}}, 'Tiedot': {'label': 'Tiedot', 'category': {'index': {'indeksipisteluku': 0}, 'label': {'indeksipisteluku': 'Indeksipisteluku'}, 'note': {'indeksipisteluku': ['Pisteluku on hintaindekseissä käytetty muutossuure, joka kertoo vertailujankohdan hinnan, keskihinnan tai indeksin suhteessa perusajankohdan hintaan, keskihintaan tai indeksiin. Perusajankohdan pistelukua merkitään tavallisesti luvulla sata. Esimerkiksi jos hyödykkeen pisteluku on tiettynä ajankohtana 105,3, merkitsee tämä, että hyödykkeen hinta on noussut 5,3 prosenttia perusajankohdasta.']}, 'unit': {'indeksipisteluku': {'base': 'Indeksipisteluku', 'decimals': 2}}}, 'extension': {'elimination': False, 'show': 'value'}}}, 'extension': {'px': {'tableid': 'statfin_khi_pxt_11xc', 'decimals': 2, 'official-statistics': True, 'aggregallowed': True, 'language': 'fi', 'description': '11xc -- Kuluttajahintaindeksi (2015=100), vuositiedot, 2015-2024', 'matrix': '001_11xc_2024', 'subject-code': 'KHI'}, 'contact': [{'raw': \"<A HREF='https://stat.fi/tilasto/khi' TARGET=_blank>Tilaston kotisivu</A>\"}]}, 'value': [100, 100.35, 101.1, 102.2, 103.25, 103.55, 105.82, 113.36, 120.44, 122.33]}\n"
     ]
    }
   ],
   "source": [
    "import requests\n",
    "import json\n",
    "\n",
    "# Kopioi url Tilastokeskuksen sivulta.\n",
    "\n",
    "url = \"https://pxdata.stat.fi:443/PxWeb/api/v1/fi/StatFin/khi/statfin_khi_pxt_11xc.px\"\n",
    "\n",
    "# Kopioi kysely Tilastokeskuksen sivulta. \n",
    "\n",
    "query = {\n",
    "    \n",
    "  \"query\": [\n",
    "    {\n",
    "      \"code\": \"Tiedot\",\n",
    "      \"selection\": {\n",
    "        \"filter\": \"item\",\n",
    "        \"values\": [\n",
    "          \"indeksipisteluku\"\n",
    "        ]\n",
    "      }\n",
    "    }\n",
    "  ],\n",
    "  \"response\": {\n",
    "    \"format\": \"json-stat2\"\n",
    "  }\n",
    "\n",
    "}\n",
    "\n",
    "# Asetetaan headerit, jotta palvelin tietää vastaanottavansa JSON-dataa\n",
    "headers = {\"Content-Type\": \"application/json\"}\n",
    "\n",
    "# Lähetetään POST-pyyntö\n",
    "response = requests.post(url, headers=headers, data=json.dumps(query))\n",
    "\n",
    "# Tarkistetaan, että pyyntö onnistui. Kerrotaan käyttäjälle onnistuiko pyyntö vai ei. Tämä ei ole toiminnan kannalta pakollista, \n",
    "# mutta noudattaa hyvää ohjelmointitapaa ja antaa informaatiota koodin toimivuudesta. \n",
    "# Vastauskoodit ovat näkyvissä opiskeluohjeen linkistä. \n",
    "\n",
    "if response.status_code == 200:\n",
    "    data = response.json()\n",
    "    print(\"Vastaus saatiin onnistuneesti:\")\n",
    "    #Tulostetaan data, jotta nähdään mitä se sisältää (ei pakollista).\n",
    "    print(data)\n",
    "else:\n",
    "    print(\"Pyyntö epäonnistui, statuskoodi:\", response.status_code)\n",
    "    print(response.text)\n",
    "\n",
    "# Muunnetaan Dictionary-tyyppinen tieto Stringiksi, jotta voidaan käsitellä sitä Datareadillä. \n",
    "data = json.dumps(data)"
   ]
  },
  {
   "cell_type": "code",
   "execution_count": 3,
   "id": "72854051-6e95-4225-890c-aee688efba4c",
   "metadata": {},
   "outputs": [],
   "source": [
    "# Kuten yltä huomataan, kysely palauttaa melkoisen \"hässäkän\". Kyselyn tuottama datan on JSONstat-muodossa. Pythonissa sitä käsitellään oletuksena\n",
    "# sanakirjana (Dictionary). Jotta pyjstatin Datasetia voidaan käyttää, data muutetaan String-tyyppiseksi.\n",
    "\n",
    "from pyjstat import pyjstat\n",
    "#Luetaan data pyjstatin Datasetiin.\n",
    "dataset = pyjstat.Dataset.read(data)\n",
    "\n",
    "# Muunnetaan Dataset DataFrameksi\n",
    "df = dataset.write('dataframe')"
   ]
  },
  {
   "cell_type": "code",
   "execution_count": 4,
   "id": "9a85010b-5502-403f-80fa-810d59390bad",
   "metadata": {},
   "outputs": [
    {
     "data": {
      "text/html": [
       "<div>\n",
       "<style scoped>\n",
       "    .dataframe tbody tr th:only-of-type {\n",
       "        vertical-align: middle;\n",
       "    }\n",
       "\n",
       "    .dataframe tbody tr th {\n",
       "        vertical-align: top;\n",
       "    }\n",
       "\n",
       "    .dataframe thead th {\n",
       "        text-align: right;\n",
       "    }\n",
       "</style>\n",
       "<table border=\"1\" class=\"dataframe\">\n",
       "  <thead>\n",
       "    <tr style=\"text-align: right;\">\n",
       "      <th></th>\n",
       "      <th>Vuosi</th>\n",
       "      <th>Pisteluku</th>\n",
       "    </tr>\n",
       "  </thead>\n",
       "  <tbody>\n",
       "    <tr>\n",
       "      <th>0</th>\n",
       "      <td>2015</td>\n",
       "      <td>100.00</td>\n",
       "    </tr>\n",
       "    <tr>\n",
       "      <th>1</th>\n",
       "      <td>2016</td>\n",
       "      <td>100.35</td>\n",
       "    </tr>\n",
       "    <tr>\n",
       "      <th>2</th>\n",
       "      <td>2017</td>\n",
       "      <td>101.10</td>\n",
       "    </tr>\n",
       "    <tr>\n",
       "      <th>3</th>\n",
       "      <td>2018</td>\n",
       "      <td>102.20</td>\n",
       "    </tr>\n",
       "    <tr>\n",
       "      <th>4</th>\n",
       "      <td>2019</td>\n",
       "      <td>103.25</td>\n",
       "    </tr>\n",
       "    <tr>\n",
       "      <th>5</th>\n",
       "      <td>2020</td>\n",
       "      <td>103.55</td>\n",
       "    </tr>\n",
       "    <tr>\n",
       "      <th>6</th>\n",
       "      <td>2021</td>\n",
       "      <td>105.82</td>\n",
       "    </tr>\n",
       "    <tr>\n",
       "      <th>7</th>\n",
       "      <td>2022</td>\n",
       "      <td>113.36</td>\n",
       "    </tr>\n",
       "    <tr>\n",
       "      <th>8</th>\n",
       "      <td>2023</td>\n",
       "      <td>120.44</td>\n",
       "    </tr>\n",
       "    <tr>\n",
       "      <th>9</th>\n",
       "      <td>2024</td>\n",
       "      <td>122.33</td>\n",
       "    </tr>\n",
       "  </tbody>\n",
       "</table>\n",
       "</div>"
      ],
      "text/plain": [
       "  Vuosi  Pisteluku\n",
       "0  2015     100.00\n",
       "1  2016     100.35\n",
       "2  2017     101.10\n",
       "3  2018     102.20\n",
       "4  2019     103.25\n",
       "5  2020     103.55\n",
       "6  2021     105.82\n",
       "7  2022     113.36\n",
       "8  2023     120.44\n",
       "9  2024     122.33"
      ]
     },
     "execution_count": 4,
     "metadata": {},
     "output_type": "execute_result"
    }
   ],
   "source": [
    "# Poistetaan DataFramesta kaikki muut sarakkeet paitsi Vuosi ja value.\n",
    "df = df[['Vuosi','value']]\n",
    "\n",
    "# Nimetään value uudelleen Pisteluvuksi.\n",
    "df.rename(columns={'value': 'Pisteluku'}, inplace = True) #inplace = True sijoittaa muutoksen olemassa olevaan DataFrameen.\n",
    "\n",
    "# Tulostetaan DataFramen sisältö.\n",
    "df"
   ]
  },
  {
   "cell_type": "code",
   "execution_count": 5,
   "id": "777055dd-1404-4693-ac15-21a5ebef0bef",
   "metadata": {},
   "outputs": [
    {
     "data": {
      "image/png": "[encoded data removed]",
      "text/plain": [
       "<Figure size 1000x500 with 1 Axes>"
      ]
     },
     "metadata": {},
     "output_type": "display_data"
    }
   ],
   "source": [
    "#Piirretään seuraavaksi kuluttajahintaindeksistä viivakaavio. \n",
    "\n",
    "import matplotlib.pyplot as plt\n",
    "plt.figure(figsize=(10, 5))\n",
    "plt.plot(df['Vuosi'], df['Pisteluku'], marker='o', linestyle='-', color='b')\n",
    "plt.xlabel('Vuosi')\n",
    "plt.ylabel('Pisteluku')\n",
    "plt.title('Kuluttajahintaindksi vuosina 2015-2024, 2015 = 100')\n",
    "plt.grid(True)\n",
    "plt.show()"
   ]
  }
 ],
 "metadata": {
  "kernelspec": {
   "display_name": "Python 3 (ipykernel)",
   "language": "python",
   "name": "python3"
  },
  "language_info": {
   "codemirror_mode": {
    "name": "ipython",
    "version": 3
   },
   "file_extension": ".py",
   "mimetype": "text/x-python",
   "name": "python",
   "nbconvert_exporter": "python",
   "pygments_lexer": "ipython3",
   "version": "3.12.9"
  }
 },
 "nbformat": 4,
 "nbformat_minor": 5
}
